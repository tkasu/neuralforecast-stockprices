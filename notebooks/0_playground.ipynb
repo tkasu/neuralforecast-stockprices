{
 "cells": [
  {
   "cell_type": "code",
   "execution_count": null,
   "id": "79d3160d-1ab0-45be-9c66-b7fd03c2954c",
   "metadata": {},
   "outputs": [],
   "source": [
    "from datetime import datetime, timedelta\n",
    "\n",
    "import torch\n",
    "import polars as pl\n",
    "import seaborn as sns\n",
    "import matplotlib.pyplot as plt\n",
    "from neuralforecast import NeuralForecast\n",
    "from neuralforecast.models import NBEATS, NHITS, LSTM\n",
    "from datasetsforecast.losses import mse, mae, rmse\n",
    "from datasetsforecast.evaluation import accuracy"
   ]
  },
  {
   "cell_type": "code",
   "execution_count": null,
   "id": "e1d93f9c-936b-4f4a-b0ec-818fa373e3c3",
   "metadata": {},
   "outputs": [],
   "source": [
    "%matplotlib inline"
   ]
  },
  {
   "cell_type": "code",
   "execution_count": null,
   "id": "99f5c4d0",
   "metadata": {},
   "outputs": [],
   "source": [
    "plt.rcParams[\"figure.figsize\"] = [12, 8]\n",
    "plt.rcParams[\"figure.dpi\"] = 100\n",
    "plt.style.use(\"ggplot\")"
   ]
  },
  {
   "cell_type": "code",
   "execution_count": null,
   "id": "afa30fab-7fad-466c-969e-2d470ff0833b",
   "metadata": {},
   "outputs": [],
   "source": [
    "torch.cuda.is_available()"
   ]
  },
  {
   "cell_type": "code",
   "execution_count": null,
   "id": "f17dec44",
   "metadata": {},
   "outputs": [],
   "source": [
    "DAYS_TO_FORECAST = 30"
   ]
  },
  {
   "cell_type": "markdown",
   "id": "4e548a08",
   "metadata": {},
   "source": [
    "### Data"
   ]
  },
  {
   "cell_type": "code",
   "execution_count": null,
   "id": "699d223f-bce8-4fc2-8297-49e344e2c078",
   "metadata": {},
   "outputs": [],
   "source": [
    "stockprices_df = pl.read_parquet(\"../data/stock_prices/**/*.parquet\")"
   ]
  },
  {
   "cell_type": "code",
   "execution_count": null,
   "id": "b5ad66a1-bb2c-4f99-9c0f-7e39548e151c",
   "metadata": {},
   "outputs": [],
   "source": [
    "stockprices_df.head()"
   ]
  },
  {
   "cell_type": "code",
   "execution_count": null,
   "id": "c5e4d3e8-d918-4ad3-a145-64e76c3c6a3b",
   "metadata": {},
   "outputs": [],
   "source": [
    "filtered_pdf = stockprices_df.filter(\n",
    "    pl.col(\"Ticker\").is_in([\"AAPL\", \"AMZN\", \"NFLX\"])\n",
    ").to_pandas()\n",
    "\n",
    "sns.lineplot(filtered_pdf, x=\"Date\", y=\"Close\", hue=\"Ticker\")"
   ]
  },
  {
   "cell_type": "markdown",
   "id": "279e1f70-e20d-45e7-b718-50548bef30f0",
   "metadata": {},
   "source": [
    "### Preprocessing"
   ]
  },
  {
   "cell_type": "code",
   "execution_count": null,
   "id": "c6ba277d",
   "metadata": {},
   "outputs": [],
   "source": [
    "preprocessed_df = stockprices_df.select(\n",
    "    pl.col(\"Date\").cast(pl.Date).alias(\"ds\"),\n",
    "    pl.col(\"Ticker\").alias(\"unique_id\"),\n",
    "    pl.col(\"Close\").alias(\"y\"),\n",
    ")\n",
    "\n",
    "preprocessed_df.head()"
   ]
  },
  {
   "cell_type": "code",
   "execution_count": null,
   "id": "fe6220b8",
   "metadata": {},
   "outputs": [],
   "source": [
    "max_ds = preprocessed_df.select(pl.max(\"ds\")).item()\n",
    "cutoff_ds = max_ds - timedelta(days=DAYS_TO_FORECAST + 1)\n",
    "\n",
    "train_df = preprocessed_df.filter(pl.col(\"ds\") <= cutoff_ds)\n",
    "test_df = preprocessed_df.filter(pl.col(\"ds\") >= cutoff_ds)"
   ]
  },
  {
   "cell_type": "markdown",
   "id": "62a51e9f",
   "metadata": {},
   "source": [
    "### Forecast all the days from t=0"
   ]
  },
  {
   "cell_type": "code",
   "execution_count": null,
   "id": "98d16faf",
   "metadata": {},
   "outputs": [],
   "source": [
    "models = [\n",
    "    LSTM(\n",
    "        h=DAYS_TO_FORECAST,\n",
    "        max_steps=1000,\n",
    "        scaler_type=\"standard\",\n",
    "        encoder_hidden_size=64,\n",
    "        decoder_hidden_size=64,\n",
    "    ),\n",
    "    NHITS(\n",
    "        h=DAYS_TO_FORECAST,\n",
    "        input_size=60,\n",
    "        max_steps=1000,\n",
    "        n_freq_downsample=[2, 1, 1],\n",
    "    ),\n",
    "    NBEATS(\n",
    "        h=DAYS_TO_FORECAST,\n",
    "        input_size=60,\n",
    "        max_steps=1000,\n",
    "        stack_types=[\"trend\", \"seasonality\", \"identity\"],\n",
    "        scaler_type=\"standard\",\n",
    "    ),\n",
    "]\n",
    "nf = NeuralForecast(models=models, freq=\"d\")\n",
    "nf.fit(df=train_df.to_pandas())"
   ]
  },
  {
   "cell_type": "code",
   "execution_count": null,
   "id": "fcccac25",
   "metadata": {},
   "outputs": [],
   "source": [
    "predict_df = nf.predict().reset_index()\n",
    "predict_df.head()"
   ]
  },
  {
   "cell_type": "code",
   "execution_count": null,
   "id": "82fdddef",
   "metadata": {},
   "outputs": [],
   "source": [
    "test_validation_df = (\n",
    "    pl.from_pandas(predict_df)\n",
    "    .with_columns([pl.col(\"ds\").cast(pl.Date).alias(\"ds\")])\n",
    "    .join(test_df, on=[\"ds\", \"unique_id\"])\n",
    ")\n",
    "test_validation_df.head()"
   ]
  },
  {
   "cell_type": "code",
   "execution_count": null,
   "id": "fc44bed1",
   "metadata": {},
   "outputs": [],
   "source": [
    "timeseries_with_forecasts_df = pl.concat(\n",
    "    [\n",
    "        train_df,\n",
    "        test_validation_df,\n",
    "    ],\n",
    "    how=\"align\",\n",
    ")\n",
    "\n",
    "timeseries_with_forecasts_df.head()\n",
    "model_names = list(\n",
    "    set(timeseries_with_forecasts_df.columns) - set([\"ds\", \"unique_id\", \"y\"])\n",
    ")\n",
    "model_names"
   ]
  },
  {
   "cell_type": "code",
   "execution_count": null,
   "id": "a88bf283",
   "metadata": {},
   "outputs": [],
   "source": [
    "for ticker in [\"AAPL\", \"AMZN\", \"NFLX\"]:\n",
    "    ticker_df = timeseries_with_forecasts_df.filter(\n",
    "        pl.col(\"unique_id\") == ticker\n",
    "    ).filter(pl.col(\"ds\") >= cutoff_ds - timedelta(days=7))\n",
    "    sns.lineplot(data=ticker_df.to_pandas()[[\"y\", *model_names]])"
   ]
  },
  {
   "cell_type": "code",
   "execution_count": null,
   "id": "16aefd90",
   "metadata": {},
   "outputs": [],
   "source": [
    "evaluation_pdf = accuracy(test_validation_df, [mse, mae, rmse], agg_by=[\"unique_id\"])\n",
    "evaluation_pdf[\"best_model\"] = evaluation_pdf.drop(\n",
    "    columns=[\"metric\", \"unique_id\"]\n",
    ").idxmin(axis=1)\n",
    "\n",
    "evaluation_df = pl.from_pandas(evaluation_pdf)\n",
    "evaluation_df.head()"
   ]
  },
  {
   "cell_type": "code",
   "execution_count": null,
   "id": "7abf6208",
   "metadata": {},
   "outputs": [],
   "source": [
    "(\n",
    "    evaluation_df\n",
    "    .filter(pl.col(\"unique_id\").is_in([\"AAPL\", \"AMZN\", \"NFLX\"]))\n",
    ")"
   ]
  },
  {
   "cell_type": "code",
   "execution_count": null,
   "id": "fa8d4aba",
   "metadata": {},
   "outputs": [],
   "source": [
    "(\n",
    "    evaluation_df\n",
    "    .group_by(\"metric\")\n",
    "    .agg(*[pl.col(model_name).mean() for model_name in model_names])\n",
    ")"
   ]
  },
  {
   "cell_type": "markdown",
   "id": "91550b12",
   "metadata": {},
   "source": [
    "### Forecast days incrementally"
   ]
  },
  {
   "cell_type": "code",
   "execution_count": null,
   "id": "3c5037e2",
   "metadata": {},
   "outputs": [],
   "source": [
    "models = [\n",
    "    # TODO: Fix to work with cross-validation\n",
    "    #LSTM(\n",
    "    #    h=5,\n",
    "    #    max_steps=1000,\n",
    "    #    scaler_type=\"standard\",\n",
    "    #    encoder_hidden_size=64,\n",
    "    #    decoder_hidden_size=64,\n",
    "    #    early_stop_patience_steps=2,\n",
    "    #),\n",
    "    NHITS(\n",
    "        h=5,\n",
    "        input_size=60,\n",
    "        max_steps=1000,\n",
    "        n_freq_downsample=[2, 1, 1],\n",
    "        early_stop_patience_steps=2,\n",
    "    ),\n",
    "    NBEATS(\n",
    "        h=5,\n",
    "        input_size=30,\n",
    "        max_steps=1000,\n",
    "        stack_types=[\"trend\", \"seasonality\", \"identity\"],\n",
    "        scaler_type=\"standard\",\n",
    "        early_stop_patience_steps=2,\n",
    "    ),\n",
    "]\n",
    "nf = NeuralForecast(models=models, freq=\"d\")"
   ]
  },
  {
   "cell_type": "code",
   "execution_count": null,
   "id": "6e60316a",
   "metadata": {},
   "outputs": [],
   "source": [
    "temp_training_df = train_df\n",
    "predictions_df = None\n",
    "\n",
    "validation_set_size = 5_000\n",
    "\n",
    "while True:\n",
    "    nf.fit(df=temp_training_df.to_pandas(), val_size=validation_set_size)\n",
    "    predict_df = (\n",
    "        pl.from_pandas(nf.predict().reset_index())\n",
    "        .with_columns([pl.col(\"ds\").cast(pl.Date).alias(\"ds\")])\n",
    "    )\n",
    "\n",
    "    next_predict_ds = predict_df.select(pl.col(\"ds\").min()).item()\n",
    "    next_data_ds = test_df.filter(pl.col(\"ds\") > next_predict_ds).select(pl.col(\"ds\").min()).item()\n",
    "    print(f\"Next predicted for {next_predict_ds}\")\n",
    "    print(f\"Next available ds is for {next_data_ds}\")\n",
    "\n",
    "    predictions_until_next_ds = predict_df.filter(pl.col(\"ds\") < next_data_ds)\n",
    "\n",
    "    if predictions_df is None:\n",
    "        predictions_df = predictions_until_next_ds\n",
    "    else:\n",
    "        predictions_df = pl.concat([predictions_df, predictions_until_next_ds], how=\"align\")\n",
    "\n",
    "    if not next_data_ds:\n",
    "        break\n",
    "\n",
    "    next_training_sample_df = test_df.filter(pl.col(\"ds\") == next_data_ds)\n",
    "    assert not next_training_sample_df.is_empty()\n",
    "    temp_training_df = pl.concat([temp_training_df, next_training_sample_df], how=\"align\")\n",
    "\n",
    "predictions_df.head()"
   ]
  },
  {
   "cell_type": "code",
   "execution_count": null,
   "id": "a8d00872",
   "metadata": {},
   "outputs": [],
   "source": [
    "test_validation_df = (\n",
    "    predictions_df\n",
    "    .join(test_df, on=[\"ds\", \"unique_id\"])\n",
    ")\n",
    "test_validation_df.head()"
   ]
  },
  {
   "cell_type": "code",
   "execution_count": null,
   "id": "30121c24",
   "metadata": {},
   "outputs": [],
   "source": [
    "timeseries_with_forecasts_df = pl.concat(\n",
    "    [\n",
    "        train_df,\n",
    "        test_validation_df,\n",
    "    ],\n",
    "    how=\"align\",\n",
    ")\n",
    "\n",
    "timeseries_with_forecasts_df.head()\n",
    "model_names = list(\n",
    "    set(timeseries_with_forecasts_df.columns) - set([\"ds\", \"unique_id\", \"y\"])\n",
    ")\n",
    "model_names"
   ]
  },
  {
   "cell_type": "code",
   "execution_count": null,
   "id": "b8c7e2b7",
   "metadata": {},
   "outputs": [],
   "source": [
    "for ticker in [\"AAPL\", \"AMZN\", \"NFLX\"]:\n",
    "    ticker_df = timeseries_with_forecasts_df.filter(\n",
    "        pl.col(\"unique_id\") == ticker\n",
    "    ).filter(pl.col(\"ds\") >= cutoff_ds - timedelta(days=7))\n",
    "    sns.lineplot(data=ticker_df.to_pandas()[[\"y\", *model_names]])"
   ]
  },
  {
   "cell_type": "code",
   "execution_count": null,
   "id": "3bb66317",
   "metadata": {},
   "outputs": [],
   "source": [
    "evaluation_pdf = accuracy(test_validation_df, [mse, mae, rmse], agg_by=[\"unique_id\"])\n",
    "evaluation_pdf[\"best_model\"] = evaluation_pdf.drop(\n",
    "    columns=[\"metric\", \"unique_id\"]\n",
    ").idxmin(axis=1)\n",
    "\n",
    "evaluation_df = pl.from_pandas(evaluation_pdf)\n",
    "evaluation_df.head()"
   ]
  },
  {
   "cell_type": "code",
   "execution_count": null,
   "id": "7bea0aff",
   "metadata": {},
   "outputs": [],
   "source": [
    "(\n",
    "    evaluation_df\n",
    "    .group_by(\"metric\")\n",
    "    .agg(*[pl.col(model_name).mean() for model_name in model_names])\n",
    ")"
   ]
  }
 ],
 "metadata": {
  "kernelspec": {
   "display_name": "Python 3 (ipykernel)",
   "language": "python",
   "name": "python3"
  },
  "language_info": {
   "codemirror_mode": {
    "name": "ipython",
    "version": 3
   },
   "file_extension": ".py",
   "mimetype": "text/x-python",
   "name": "python",
   "nbconvert_exporter": "python",
   "pygments_lexer": "ipython3",
   "version": "3.10.12"
  }
 },
 "nbformat": 4,
 "nbformat_minor": 5
}
