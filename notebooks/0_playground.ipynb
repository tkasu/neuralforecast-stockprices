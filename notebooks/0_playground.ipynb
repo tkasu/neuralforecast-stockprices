{
 "cells": [
  {
   "cell_type": "code",
   "execution_count": null,
   "id": "79d3160d-1ab0-45be-9c66-b7fd03c2954c",
   "metadata": {},
   "outputs": [],
   "source": [
    "from datetime import timedelta\n",
    "\n",
    "import torch\n",
    "import polars as pl\n",
    "import seaborn as sns\n",
    "import matplotlib.pyplot as plt\n",
    "from neuralforecast import NeuralForecast\n",
    "from neuralforecast.models import NBEATS, NHITS, LSTM"
   ]
  },
  {
   "cell_type": "code",
   "execution_count": null,
   "id": "e1d93f9c-936b-4f4a-b0ec-818fa373e3c3",
   "metadata": {},
   "outputs": [],
   "source": [
    "%matplotlib inline"
   ]
  },
  {
   "cell_type": "code",
   "execution_count": null,
   "id": "99f5c4d0",
   "metadata": {},
   "outputs": [],
   "source": [
    "plt.rcParams[\"figure.figsize\"] = [12, 8]\n",
    "plt.rcParams[\"figure.dpi\"] = 100\n",
    "plt.style.use(\"ggplot\")"
   ]
  },
  {
   "cell_type": "code",
   "execution_count": null,
   "id": "afa30fab-7fad-466c-969e-2d470ff0833b",
   "metadata": {},
   "outputs": [],
   "source": [
    "torch.cuda.is_available()"
   ]
  },
  {
   "cell_type": "code",
   "execution_count": null,
   "id": "f17dec44",
   "metadata": {},
   "outputs": [],
   "source": [
    "HORIZON = 12"
   ]
  },
  {
   "cell_type": "markdown",
   "id": "4e548a08",
   "metadata": {},
   "source": [
    "### Data"
   ]
  },
  {
   "cell_type": "code",
   "execution_count": null,
   "id": "699d223f-bce8-4fc2-8297-49e344e2c078",
   "metadata": {},
   "outputs": [],
   "source": [
    "stockprices_df = pl.read_parquet(\"../data/stock_prices/**/*.parquet\")"
   ]
  },
  {
   "cell_type": "code",
   "execution_count": null,
   "id": "b5ad66a1-bb2c-4f99-9c0f-7e39548e151c",
   "metadata": {},
   "outputs": [],
   "source": [
    "stockprices_df.head()"
   ]
  },
  {
   "cell_type": "code",
   "execution_count": null,
   "id": "c5e4d3e8-d918-4ad3-a145-64e76c3c6a3b",
   "metadata": {},
   "outputs": [],
   "source": [
    "filtered_pdf = stockprices_df.filter(\n",
    "    pl.col(\"Ticker\").is_in([\"AAPL\", \"AMZN\", \"NFLX\"])\n",
    ").to_pandas()\n",
    "\n",
    "sns.lineplot(filtered_pdf, x=\"Date\", y=\"Close\", hue=\"Ticker\")"
   ]
  },
  {
   "cell_type": "markdown",
   "id": "279e1f70-e20d-45e7-b718-50548bef30f0",
   "metadata": {},
   "source": [
    "### Preprocessing"
   ]
  },
  {
   "cell_type": "code",
   "execution_count": null,
   "id": "c6ba277d",
   "metadata": {},
   "outputs": [],
   "source": [
    "preprocessed_df = stockprices_df.select(\n",
    "    pl.col(\"Date\").cast(pl.Date).alias(\"ds\"),\n",
    "    pl.col(\"Ticker\").alias(\"unique_id\"),\n",
    "    pl.col(\"Close\").alias(\"y\"),\n",
    ")\n",
    "\n",
    "preprocessed_df.head()"
   ]
  },
  {
   "cell_type": "code",
   "execution_count": null,
   "id": "fe6220b8",
   "metadata": {},
   "outputs": [],
   "source": [
    "max_ds = preprocessed_df.select(pl.max(\"ds\")).item()\n",
    "cutoff_ds = max_ds - timedelta(days=HORIZON + 1)\n",
    "\n",
    "train_df = preprocessed_df.filter(pl.col(\"ds\") < cutoff_ds)\n",
    "test_df = preprocessed_df.filter(pl.col(\"ds\") >= cutoff_ds)"
   ]
  },
  {
   "cell_type": "markdown",
   "id": "62a51e9f",
   "metadata": {},
   "source": [
    "### Model training"
   ]
  },
  {
   "cell_type": "code",
   "execution_count": null,
   "id": "98d16faf",
   "metadata": {},
   "outputs": [],
   "source": [
    "models = [\n",
    "    LSTM(\n",
    "        h=HORIZON,\n",
    "        max_steps=1000,\n",
    "        scaler_type=\"standard\",\n",
    "        encoder_hidden_size=64,\n",
    "        decoder_hidden_size=64,\n",
    "    ),\n",
    "    NHITS(\n",
    "        h=HORIZON,\n",
    "        input_size=2 * HORIZON,\n",
    "        max_steps=1000,\n",
    "        n_freq_downsample=[2, 1, 1],\n",
    "    ),\n",
    "]\n",
    "nf = NeuralForecast(models=models, freq=\"d\")\n",
    "nf.fit(df=train_df.to_pandas())"
   ]
  },
  {
   "cell_type": "markdown",
   "id": "f0da671a",
   "metadata": {},
   "source": [
    "### Predictions"
   ]
  },
  {
   "cell_type": "code",
   "execution_count": null,
   "id": "fcccac25",
   "metadata": {},
   "outputs": [],
   "source": [
    "predict_df = nf.predict().reset_index()\n",
    "predict_df.head()"
   ]
  },
  {
   "cell_type": "code",
   "execution_count": null,
   "id": "82fdddef",
   "metadata": {},
   "outputs": [],
   "source": [
    "test_validation_df = (\n",
    "    pl.from_pandas(predict_df)\n",
    "    .with_columns([pl.col(\"ds\").cast(pl.Date).alias(\"ds\")])\n",
    "    .join(test_df, on=[\"ds\", \"unique_id\"])\n",
    ")\n",
    "test_validation_df.head()"
   ]
  },
  {
   "cell_type": "code",
   "execution_count": null,
   "id": "fc44bed1",
   "metadata": {},
   "outputs": [],
   "source": [
    "timeseries_with_forecasts_df = pl.concat(\n",
    "    [\n",
    "        train_df,\n",
    "        test_validation_df,\n",
    "    ],\n",
    "    how=\"align\",\n",
    ")\n",
    "\n",
    "timeseries_with_forecasts_df.head()\n",
    "model_names = list(\n",
    "    set(timeseries_with_forecasts_df.columns) - set([\"ds\", \"unique_id\", \"y\"])\n",
    ")\n",
    "model_names"
   ]
  },
  {
   "cell_type": "code",
   "execution_count": null,
   "id": "a88bf283",
   "metadata": {},
   "outputs": [],
   "source": [
    "for ticker in [\"AAPL\", \"AMZN\", \"NFLX\"]:\n",
    "    ticker_df = timeseries_with_forecasts_df.filter(\n",
    "        pl.col(\"unique_id\") == ticker\n",
    "    ).filter(pl.col(\"ds\") >= cutoff_ds - timedelta(days=30))\n",
    "    sns.lineplot(data=ticker_df.to_pandas()[[\"y\", *model_names]])"
   ]
  },
  {
   "cell_type": "code",
   "execution_count": null,
   "id": "16aefd90",
   "metadata": {},
   "outputs": [],
   "source": []
  }
 ],
 "metadata": {
  "kernelspec": {
   "display_name": "Python 3 (ipykernel)",
   "language": "python",
   "name": "python3"
  },
  "language_info": {
   "codemirror_mode": {
    "name": "ipython",
    "version": 3
   },
   "file_extension": ".py",
   "mimetype": "text/x-python",
   "name": "python",
   "nbconvert_exporter": "python",
   "pygments_lexer": "ipython3",
   "version": "3.10.12"
  }
 },
 "nbformat": 4,
 "nbformat_minor": 5
}
